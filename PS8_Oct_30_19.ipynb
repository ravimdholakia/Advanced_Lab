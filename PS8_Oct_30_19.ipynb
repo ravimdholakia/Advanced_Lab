{
 "cells": [
  {
   "cell_type": "code",
   "execution_count": 1,
   "metadata": {},
   "outputs": [],
   "source": [
    "import numpy as np\n",
    "import matplotlib.pyplot as plt\n",
    "import math\n",
    "\n",
    "L          = 5e-10\n",
    "hbar       = 1.0546e-34\n",
    "electron_M = 9.1094e-31\n",
    "a          = 10*1.6022e-19"
   ]
  },
  {
   "cell_type": "markdown",
   "metadata": {},
   "source": [
    "Part a\n",
    "\n",
    "$H\\Psi=E\\Psi$\n",
    "\n",
    "$A\\Psi=\\lambda\\Psi$\n",
    "\n",
    "$$\n",
    "\\begin{bmatrix} \n",
    "\\frac{L^2}{4} & -(\\frac{2L}{\\pi})^{2}\\frac{mn}{(m^2-n^2)} \\\\\n",
    "-(\\frac{2L}{\\pi})^{2}\\frac{mn}{(m^2-n^2)} & \\frac{L^2}{4} & -(\\frac{2L}{\\pi})^{2}\\frac{mn}{(m^2-n^2)} \\\\\n",
    "0 & -(\\frac{2L}{\\pi})^{2}\\frac{mn}{(m^2-n^2)} & \\frac{L^2}{4} & -(\\frac{2L}{\\pi})^{2}\\frac{mn}{(m^2-n^2)} \\\\\n",
    "-(\\frac{2L}{\\pi})^{2}\\frac{mn}{(m^2-n^2)} & 0 & -(\\frac{2L}{\\pi})^{2}\\frac{mn}{(m^2-n^2)} & \\frac{L^2}{4} & -(\\frac{2L}{\\pi})^{2}\\frac{mn}{(m^2-n^2)} \\\\\n",
    "...&...&...&...&...\\\\\n",
    "-(\\frac{2L}{\\pi})^{2}\\frac{mn}{(m^2-n^2)}&0&-(\\frac{2L}{\\pi})^{2}\\frac{mn}{(m^2-n^2)}&0&-(\\frac{2L}{\\pi})^{2}\\frac{mn}{(m^2-n^2)}&\\frac{L^2}{4}\n",
    "\\end{bmatrix}\n",
    "·\n",
    "\\begin{bmatrix}\n",
    "\\Psi_0\\\\\n",
    "\\Psi_1\\\\\n",
    "\\Psi_2\\\\\n",
    "...\\\\\n",
    "...\\\\\n",
    "\\Psi_n\n",
    "\\end{bmatrix}\n",
    "=\n",
    "\\begin{bmatrix}\n",
    "\\lambda_0 \\\\\n",
    "0 & \\lambda_1 \\\\\n",
    "0 & 0 & \\lambda_2 \\\\\n",
    "... & ... & ... & ... \\\\\n",
    "0 & 0 & 0 & 0 & \\lambda_n \\\\\n",
    "\\end{bmatrix}\n",
    "·\n",
    "\\begin{bmatrix}\n",
    "\\Psi_0\\\\\n",
    "\\Psi_1\\\\\n",
    "\\Psi_2\\\\\n",
    "...\\\\\n",
    "...\\\\\n",
    "\\Psi_n\n",
    "\\end{bmatrix}\n",
    "$$\n",
    "\n",
    "$$\n",
    "\\sum_{n=1}^{\\infty} \\Psi_n \\int_{0}^{L} sin(\\frac{n\\pi x}{L}) \\hat{H} sin(\\frac{n\\pi x}{L}) dx = \\frac{1}{2} LE\\Psi m \n",
    "$$\n",
    "\n",
    "$$\n",
    "\\hat{H}\\Psi(x)=E\\Psi=\\hat{H}\\sum_{n=1}^{\\infty}(\\Psi_n)\\sqrt{\\frac{2}{L}}sin(\\frac{n\\pi x}{L})\n",
    "$$\n",
    "\n",
    "$$\n",
    "\\hat{H}\\Psi(x)= E\\Psi=\\frac{2}{L}\\int_{0}^{L}sin(\\frac{m\\pi x}{L})\\hat{H}\\sum_{m=0}^{\\infty}\\sqrt{\\frac{2}{L}}sin(\\frac{n\\pi x}{L})dx \n",
    "$$"
   ]
  },
  {
   "cell_type": "code",
   "execution_count": 2,
   "metadata": {
    "scrolled": true
   },
   "outputs": [
    {
     "name": "stdout",
     "output_type": "stream",
     "text": [
      "Eigenvalues: \n",
      "[ 5.81911955  6.74922456  7.678943    8.60800491  9.53666695 10.46519791\n",
      " 11.39385994 12.32292185 13.2526403  14.18274531]\n",
      "Eigenvectors:\n",
      "[[-0.11  0.23  0.32  0.39 -0.43  0.43 -0.39 -0.32  0.23 -0.11]\n",
      " [-0.21  0.39  0.43  0.33 -0.12 -0.12  0.33  0.43 -0.39  0.21]\n",
      " [-0.3   0.43  0.25 -0.11  0.39 -0.39  0.11 -0.25  0.43 -0.3 ]\n",
      " [-0.36  0.35 -0.1  -0.42  0.24  0.24 -0.42 -0.1  -0.35  0.36]\n",
      " [-0.4   0.17 -0.38 -0.25 -0.32  0.32  0.25  0.38  0.17 -0.4 ]\n",
      " [-0.42 -0.06 -0.41  0.22 -0.33 -0.33  0.22 -0.41  0.06  0.42]\n",
      " [-0.4  -0.27 -0.17  0.43  0.23 -0.23 -0.43  0.17 -0.27 -0.4 ]\n",
      " [-0.35 -0.4   0.18  0.16  0.4   0.4   0.16  0.18  0.4   0.35]\n",
      " [-0.28 -0.4   0.4  -0.3  -0.11  0.11  0.3  -0.4  -0.4  -0.28]\n",
      " [-0.17 -0.26  0.33 -0.37 -0.4  -0.4  -0.37  0.33  0.26  0.17]]\n"
     ]
    }
   ],
   "source": [
    "#Part b\n",
    "\n",
    "def Make_Hamiltonian_Array(size):\n",
    "    H = np.zeros([size,size])\n",
    "    for m in range(size):\n",
    "        for n in range(size):\n",
    "            if m==n:\n",
    "                H[m,n] = (2/L)*(np.pi**2 * hbar**2 * n**2)/(2 * electron_M * L**2)*(1.6022 * 10 ** -19) + (a/2)\n",
    "                H[m,n] += (2/L)*(a*L/4)\n",
    "            elif m != n:\n",
    "                if (m%2==0 and n%2==0) or (m%2!=0 and n%2!=0):\n",
    "                    H[m,n] = 0\n",
    "                else:\n",
    "                    H[m,n] = -(2/L)*(a/L)*((2*L) / (np.pi))**2 *( ((m+1)*(n+1)) / ((m+1)**2 - (n+1)**2)**2)\n",
    "    return H\n",
    "\n",
    "H=Make_Hamiltonian_Array(10)\n",
    "Eigvals, Eigvecs = np.linalg.eigh(H)\n",
    "\n",
    "print(\"Eigenvalues: \")\n",
    "print(Eigvals*(6.242e18))\n",
    "print(\"Eigenvectors:\")\n",
    "print(np.around(Eigvecs,2))"
   ]
  },
  {
   "cell_type": "markdown",
   "metadata": {},
   "source": [
    "$$\n",
    "V(x)=\\frac{ax}{L}\n",
    "$$\n",
    "\n",
    "$$\n",
    "H_{mn}=\\int_{0}^{L}sin(\\frac{m\\pi x}{L})[\\frac{-\\hbar^2}{2M}\\frac{d^2}{dx^2}+\\frac{ax}{L}]sin(\\frac{n\\pi x}{L}) dx\n",
    "$$\n",
    "\n",
    "$$\n",
    "H_{mn}=\\int_{0}^{L}[sin(\\frac{m\\pi x}{L})\\frac{-\\hbar^2}{2M}\\frac{d^2}{dx^2}sin(\\frac{m\\pi x}{L})+\\frac{ax}{L}sin(\\frac{n\\pi x}{L})] dx\n",
    "$$\n",
    "\n",
    "$$\n",
    "(\\frac{\\hbar^2\\pi^2n^2}{2ML^2})\\int_{0}^{L}x sin(\\frac{m\\pi x}{L})sin(\\frac{n\\pi x}{L})\n",
    "$$\n",
    "\n",
    "$$\n",
    "=\\frac{a}{L} \n",
    "\\left\\{\n",
    "\\begin{array}{ll}\n",
    "      0 & \\text{, if m\\neq n, and both are even/odd} \\\\\n",
    "      -(\\frac{2L}{\\pi})^{2}\\frac{mn}{(m^2-n^2)}, & \\text{, if both are even/odd} \\\\\n",
    "      L^2/4 & \\text{, m=n} \\\\\n",
    "\\end{array} \n",
    "\\right.\n",
    "$$"
   ]
  },
  {
   "cell_type": "code",
   "execution_count": 3,
   "metadata": {},
   "outputs": [
    {
     "name": "stdout",
     "output_type": "stream",
     "text": [
      "Eigenvalues: \n",
      "[ 5.81911955  6.74922456  7.678943    8.60800491  9.53666695 10.46519791\n",
      " 11.39385994 12.32292185 13.2526403  14.18274531]\n",
      "Eigenvectors:\n",
      "[[-0.10795589  0.22577631  0.32114907  0.39050504 -0.42630937  0.42630937\n",
      "  -0.39050504 -0.32114906  0.2257763  -0.10795588]\n",
      " [-0.2085485   0.38544237  0.4276829   0.33132134 -0.12351198 -0.12351199\n",
      "   0.33132135  0.42768291 -0.38544236  0.20854849]\n",
      " [-0.29512782  0.43196604  0.24867375 -0.1095867   0.39045746 -0.39045746\n",
      "   0.10958668 -0.24867377  0.43196604 -0.29512781]\n",
      " [-0.36139785  0.35249947 -0.09748099 -0.42287386  0.23835032  0.23835034\n",
      "  -0.42287386 -0.09748096 -0.35249948  0.36139784]\n",
      " [-0.40318163  0.16998088 -0.37912883 -0.24845022 -0.32106836  0.32106834\n",
      "   0.24845024  0.37912882  0.16998091 -0.40318162]\n",
      " [-0.4164414  -0.0600353  -0.41065447  0.21530678 -0.32860039 -0.32860041\n",
      "   0.21530675 -0.41065448  0.06003527  0.4164414 ]\n",
      " [-0.40075796 -0.27090643 -0.16937749  0.43165078  0.22581328 -0.22581325\n",
      "  -0.43165078  0.16937753 -0.27090641 -0.40075797]\n",
      " [-0.35382085 -0.39581763  0.17788581  0.15797188  0.40192129  0.4019213\n",
      "   0.15797191  0.17788578  0.39581762  0.35382087]\n",
      " [-0.27943286 -0.40018321  0.40323347 -0.29571382 -0.10829025  0.10829023\n",
      "   0.2957138  -0.40323347 -0.40018322 -0.27943288]\n",
      " [-0.1651862  -0.25865512  0.32757341 -0.37428832 -0.39801376 -0.39801377\n",
      "  -0.37428832  0.32757341  0.25865513  0.16518622]]\n"
     ]
    }
   ],
   "source": [
    "#Part c\n",
    "\n",
    "H_10 = Make_Hamiltonian_Array(10)\n",
    "\n",
    "Evals, Evecs = np.linalg.eigh(H_10)\n",
    "\n",
    "print(\"Eigenvalues: \")\n",
    "print(Evals*(6.242e18))\n",
    "print(\"Eigenvectors:\")\n",
    "print(Evecs)"
   ]
  },
  {
   "cell_type": "code",
   "execution_count": 4,
   "metadata": {},
   "outputs": [
    {
     "name": "stdout",
     "output_type": "stream",
     "text": [
      "Eigenvalues: \n",
      "[ 5.08755971  5.18674088  5.28602152  5.38531536  5.48461059  5.58390437\n",
      "  5.68319586  5.78248482  5.88177125  5.98105521  6.08033679  6.17961609\n",
      "  6.27889324  6.37816834  6.47744148  6.57671278  6.67598231  6.77525018\n",
      "  6.87451646  6.97378124  7.07304459  7.17230658  7.27156728  7.37082675\n",
      "  7.47008507  7.56934229  7.66859846  7.76785365  7.86710791  7.96636129\n",
      "  8.06561383  8.1648656   8.26411663  8.36336698  8.46261668  8.56186579\n",
      "  8.66111434  8.76036237  8.85960994  8.95885707  9.05810381  9.1573502\n",
      "  9.25659627  9.35584206  9.45508762  9.55433297  9.65357817  9.75282323\n",
      "  9.8520682   9.95131312 10.05055802 10.14980293 10.24904791 10.34829297\n",
      " 10.44753816 10.54678351 10.64602907 10.74527487 10.84452094 10.94376732\n",
      " 11.04301406 11.1422612  11.24150876 11.3407568  11.44000535 11.53925445\n",
      " 11.63850415 11.7377545  11.83700553 11.9362573  12.03550985 12.13476322\n",
      " 12.23401748 12.33327267 12.43252885 12.53178606 12.63104438 12.73030386\n",
      " 12.82956456 12.92882655 13.02808989 13.12735467 13.22662095 13.32588882\n",
      " 13.42515835 13.52442965 13.62370279 13.72297789 13.82225504 13.92153434\n",
      " 14.02081592 14.12009987 14.2193863  14.31867527 14.41796676 14.51726054\n",
      " 14.61655576 14.7158496  14.81513025 14.9143114 ]\n",
      "Eigenvectors:\n",
      "[[ 0.00379007 -0.00826123  0.01261213 ... -0.01261185  0.00826095\n",
      "  -0.00378979]\n",
      " [ 0.00757722 -0.01649428  0.02512273 ...  0.02512218 -0.01649372\n",
      "   0.00757666]\n",
      " [ 0.01135855 -0.02467103  0.03743115 ... -0.03743034  0.0246702\n",
      "  -0.01135772]\n",
      " ...\n",
      " [ 0.03259491  0.04995766  0.06400756 ...  0.06400918  0.04995956\n",
      "   0.03259744]\n",
      " [ 0.0255413   0.03872009  0.0493299  ... -0.04933114 -0.03872155\n",
      "  -0.02554327]\n",
      " [ 0.01571998  0.02347935  0.02960163 ...  0.02960235  0.02348021\n",
      "   0.01572117]]\n"
     ]
    }
   ],
   "source": [
    "#Part d\n",
    "\n",
    "H_100=Make_Hamiltonian_Array(100)\n",
    "\n",
    "Evals, Evecs = np.linalg.eigh(H_100)\n",
    "\n",
    "print(\"Eigenvalues: \")\n",
    "print(Evals*(6.242e18))\n",
    "print(\"Eigenvectors:\")\n",
    "print(Evecs)"
   ]
  },
  {
   "cell_type": "code",
   "execution_count": 5,
   "metadata": {},
   "outputs": [
    {
     "name": "stdout",
     "output_type": "stream",
     "text": [
      "1.0013750000000001\n",
      "1.001375\n",
      "1.0013750000000001\n"
     ]
    },
    {
     "data": {
      "image/png": "[encoded data removed]",
      "text/plain": [
       "<Figure size 432x288 with 1 Axes>"
      ]
     },
     "metadata": {
      "needs_background": "light"
     },
     "output_type": "display_data"
    }
   ],
   "source": [
    "#Part e\n",
    "\n",
    "H_100=Make_Hamiltonian_Array(100)\n",
    "\n",
    "Evals, Evecs = np.linalg.eigh(H_100)\n",
    "\n",
    "x=np.linspace(0,L,len(Evecs))\n",
    "factor=((hbar**2)*(np.pi**2))/(electron_M*(L**3))\n",
    "\n",
    "#def f_Psi_1(x):\n",
    "#    return (2/(L))*(1*factor*((np.sin(1*np.pi*x/L))**2)+((2*a*x/L**2)*(np.sin(1*np.pi*x/L))**2))\n",
    "#def f_psi_2(x):\n",
    "#    return (2/(L))*(4*factor*((np.sin(2*np.pi*x/L))**2)+((2*a*x/L**2)*(np.sin(2*np.pi*x/L))**2))\n",
    "#def f_psi_3(x):\n",
    "#    return (2/(L))*(9*factor*((np.sin(3*np.pi*x/L))**2)+((2*a*x/L**2)*(np.sin(3*np.pi*x/L))**2))\n",
    "\n",
    "def Plot_WaveFunc(state):\n",
    "    y=np.zeros(len(x))\n",
    "    array=np.zeros([len(x),len(x)])\n",
    "    for i in range(len(x)):\n",
    "        for j in range(len(x)):\n",
    "#            array[i,j]=(2/L)*(((state+1)**2)*factor*Evals[j]*Evecs[state,j]*((np.sin((state+1)*np.pi*x[i]/L))**2)+((2*a*x[i]/L**2)*(np.sin((state+1)*np.pi*x[i]/L))**2))\n",
    "            array[i,j]=(((state+1)**2)*factor*Evals[j]*Evecs[i,j]*((np.sin((state+1)*np.pi*x[i]/L))**2)+((2*a*x[i]/L**2)*(np.sin((state+1)*np.pi*x[i]/L))**2))\n",
    "        y[i]=sum(array[i,:])\n",
    "    return(y)\n",
    "\n",
    "y1=Plot_WaveFunc(0)\n",
    "y2=Plot_WaveFunc(1)\n",
    "y3=Plot_WaveFunc(2)\n",
    "\n",
    "#Ground State\n",
    "psi_0=(2/L)*1*factor*((np.sin(1*np.pi*x/L))**2)+((2*a*x/L**2)*(np.sin(1*np.pi*x/L))**2)\n",
    "#First Excited State\n",
    "psi_1=(2/L)*4*factor*((np.sin(2*np.pi*x/L))**2)+((2*a*x/L**2)*(np.sin(2*np.pi*x/L))**2)\n",
    "#Second Excited State\n",
    "psi_2=(2/L)*9*factor*((np.sin(3*np.pi*x/L))**2)+((2*a*x/L**2)*(np.sin(3*np.pi*x/L))**2)\n",
    "\n",
    "print((1.25e16)*np.trapz(y1,x=x))\n",
    "print((1.25e16)*np.trapz(y2,x=x))\n",
    "print((1.25e16)*np.trapz(y3,x=x))\n",
    "\n",
    "#print((3.12071e6)*np.trapz(y1,x=x))\n",
    "#print((3.12071e6)*np.trapz(y2,x=x))\n",
    "#print((3.12071e6)*np.trapz(y3,x=x))\n",
    "\n",
    "plt.plot(x,y1,'m.',label=\"$\\Psi_1$\")\n",
    "plt.plot(x,y2,'c.',label=\"$\\Psi_2$\")\n",
    "plt.plot(x,y3,'b.',label=\"$\\Psi_3$\")\n",
    "plt.title(\"$\\Psi_1,\\Psi_2$\" + \" and \" + \"$\\Psi_3$\")\n",
    "plt.legend()\n",
    "plt.axhline(color='k')\n",
    "plt.axvline(color='k')\n",
    "plt.xlabel(\"x\")\n",
    "plt.show()"
   ]
  },
  {
   "cell_type": "code",
   "execution_count": null,
   "metadata": {},
   "outputs": [],
   "source": []
  },
  {
   "cell_type": "code",
   "execution_count": null,
   "metadata": {},
   "outputs": [],
   "source": []
  }
 ],
 "metadata": {
  "kernelspec": {
   "display_name": "Python 3",
   "language": "python",
   "name": "python3"
  },
  "language_info": {
   "codemirror_mode": {
    "name": "ipython",
    "version": 3
   },
   "file_extension": ".py",
   "mimetype": "text/x-python",
   "name": "python",
   "nbconvert_exporter": "python",
   "pygments_lexer": "ipython3",
   "version": "3.7.4"
  }
 },
 "nbformat": 4,
 "nbformat_minor": 2
}
