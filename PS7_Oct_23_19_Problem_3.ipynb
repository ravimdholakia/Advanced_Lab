{
 "cells": [
  {
   "cell_type": "code",
   "execution_count": 72,
   "metadata": {},
   "outputs": [
    {
     "name": "stderr",
     "output_type": "stream",
     "text": [
      "/opt/anaconda3/lib/python3.7/site-packages/ipykernel_launcher.py:28: ComplexWarning: Casting complex values to real discards the imaginary part\n",
      "/opt/anaconda3/lib/python3.7/site-packages/ipykernel_launcher.py:30: ComplexWarning: Casting complex values to real discards the imaginary part\n",
      "/opt/anaconda3/lib/python3.7/site-packages/ipykernel_launcher.py:31: ComplexWarning: Casting complex values to real discards the imaginary part\n"
     ]
    },
    {
     "data": {
      "image/png": "[encoded data removed]",
      "text/plain": [
       "<Figure size 432x288 with 1 Axes>"
      ]
     },
     "metadata": {
      "needs_background": "light"
     },
     "output_type": "display_data"
    }
   ],
   "source": [
    "import numpy as np\n",
    "import matplotlib.pyplot as plt\n",
    "\n",
    "N = 26\n",
    "C = 1\n",
    "#m = 1\n",
    "k = 6\n",
    "omega = 2\n",
    "gamma=1\n",
    "alpha = np.complex(2*k-m*omega*omega,gamma*omega) \n",
    "#print(alpha)\n",
    "\n",
    "A = np.zeros([N,N],complex)\n",
    "\n",
    "for i in range(N-1):\n",
    "    A[i,i] = alpha\n",
    "    A[i,i+1] = -k\n",
    "    A[i+1,i] = -k\n",
    "A[0,0] = alpha - k\n",
    "A[N-1,N-1] = alpha - k\n",
    "#print(A)\n",
    "\n",
    "v = np.zeros(N,float)\n",
    "v[0] = C\n",
    "\n",
    "for i in range(N-1):\n",
    "    A[i,i+1] /= A[i,i]\n",
    "    v[i] /= A[i,i]\n",
    "    A[i+1,i+1] -= A[i+1,i]*A[i,i+1]\n",
    "    v[i+1] -= A[i+1,i]*v[i]\n",
    "v[N-1] /= A[N-1,N-1]\n",
    "x = np.empty(N,complex)\n",
    "x[N-1] = v[N-1]\n",
    "for i in range(N-2,-1,-1):\n",
    "    x[i] = v[i] - A[i,i+1]*x[i+1]\n",
    "    \n",
    "x = np.matmul(np.linalg.inv(A), v)\n",
    "\n",
    "plt.plot(abs(np.imag(x)),\"m-o\")\n",
    "plt.show()"
   ]
  },
  {
   "cell_type": "markdown",
   "metadata": {},
   "source": [
    "As the position increases, the amplitude decreases, as is expected in damping.\n",
    "\n",
    "$\\gamma$ is the damping constant, and is the coefficient which determines the magnitude of the damping. As the position increases, the magnitude of the imaginary part of the vector decreases as well."
   ]
  },
  {
   "cell_type": "code",
   "execution_count": null,
   "metadata": {},
   "outputs": [],
   "source": []
  }
 ],
 "metadata": {
  "kernelspec": {
   "display_name": "Python 3",
   "language": "python",
   "name": "python3"
  },
  "language_info": {
   "codemirror_mode": {
    "name": "ipython",
    "version": 3
   },
   "file_extension": ".py",
   "mimetype": "text/x-python",
   "name": "python",
   "nbconvert_exporter": "python",
   "pygments_lexer": "ipython3",
   "version": "3.7.4"
  }
 },
 "nbformat": 4,
 "nbformat_minor": 2
}
