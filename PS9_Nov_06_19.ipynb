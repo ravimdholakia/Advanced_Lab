{
 "cells": [
  {
   "cell_type": "code",
   "execution_count": 1,
   "metadata": {},
   "outputs": [],
   "source": [
    "#Exercise 6.17: Wheatstone Bridge\n",
    "\n",
    "import numpy as np\n",
    "import math\n",
    "import matplotlib.pyplot as plt\n",
    "\n",
    "V_plus=5\n",
    "R_1=1000\n",
    "R_2=4000\n",
    "R_3=3000\n",
    "R_4=2000\n",
    "I_0=3e-9\n",
    "V_T=0.05"
   ]
  },
  {
   "cell_type": "markdown",
   "metadata": {},
   "source": [
    "Part a \n",
    "\n",
    "Equation for $V_1$\n",
    "\n",
    "$$\n",
    "\\frac{V_1-V_{+}}{R_1}+\\frac{V_1}{R_2}+I_0[e^{(V_1-V_2)/V_T}-1]=0\n",
    "$$\n",
    "\n",
    "Equation for $V_2$\n",
    "\n",
    "$$\n",
    "\\frac{-V_2+V_{+}}{R_3}-\\frac{V_2}{R_4}+I_0[e^{(V_1-V_2)/V_T}-1]=0\n",
    "$$"
   ]
  },
  {
   "cell_type": "code",
   "execution_count": 9,
   "metadata": {},
   "outputs": [
    {
     "name": "stdout",
     "output_type": "stream",
     "text": [
      "V1 =  3.4469546188586504\n",
      "V2 =  2.8295680717120244\n"
     ]
    }
   ],
   "source": [
    "#Part b: Newton's method:\n",
    "\n",
    "sharpness = 1e-5\n",
    "\n",
    "def f(V_1_2):\n",
    "    return np.array([ (V_1_2[0] - V_plus) / R_1 + V_1_2[0] / R_2 + I_0 * (np.exp((V_1_2[0] - V_1_2[1]) / V_T) - 1) ,\n",
    "                   (V_plus - V_1_2[1]) / R_3 - V_1_2[1] / R_4 + I_0 * (np.exp((V_1_2[0] - V_1_2[1]) / V_T) - 1)],float)\n",
    "\n",
    "def grad_f(f_V12):\n",
    "    return np.array([[ 1/R_1 + 1/R_2 + I_0/V_T * np.exp((f_V12[0]-f_V12[1]) / V_T), - I_0/V_T *np.exp((f_V12[0]-f_V12[1])/V_T)],\n",
    "                  [ I_0/V_T * np.exp((f_V12[0]-f_V12[1])/V_T), -1/R_3 - 1/R_4 - I_0/V_T *np.exp((f_V12[0]-f_V12[1])/V_T)]], float)\n",
    "\n",
    "a_vals=np.zeros(2)\n",
    "\n",
    "for i in range(len(a_vals)):\n",
    "    a_vals[0]=np.random.uniform(1,3)\n",
    "    a_vals[0]=np.random.uniform(1,3)\n",
    "\n",
    "V_1_2 = np.array([a_vals[0],a_vals[1]], float)\n",
    "\n",
    "delta_x = np.dot(np.linalg.inv(grad_f(V_1_2)),f(V_1_2))\n",
    "\n",
    "while abs((delta_x[0] > sharpness) or (abs(delta_x[1]) > sharpness)):\n",
    "    delta_x = np.dot(np.linalg.inv(grad_f(V_1_2)), f(V_1_2))\n",
    "    V_1_2  -= delta_x\n",
    "\n",
    "print('V1 = ', V_1_2[0])\n",
    "print('V2 = ', V_1_2[1])"
   ]
  },
  {
   "cell_type": "code",
   "execution_count": 10,
   "metadata": {},
   "outputs": [
    {
     "name": "stdout",
     "output_type": "stream",
     "text": [
      "0.617386547146626\n"
     ]
    }
   ],
   "source": [
    "#Part c\n",
    "\n",
    "print(V_1_2[0]-V_1_2[1])"
   ]
  },
  {
   "cell_type": "markdown",
   "metadata": {},
   "source": [
    "The difference of $V_1$ and $V_2$ is as expected, around 0.6V"
   ]
  },
  {
   "cell_type": "code",
   "execution_count": null,
   "metadata": {},
   "outputs": [],
   "source": []
  },
  {
   "cell_type": "code",
   "execution_count": null,
   "metadata": {},
   "outputs": [],
   "source": []
  }
 ],
 "metadata": {
  "kernelspec": {
   "display_name": "Python 3",
   "language": "python",
   "name": "python3"
  },
  "language_info": {
   "codemirror_mode": {
    "name": "ipython",
    "version": 3
   },
   "file_extension": ".py",
   "mimetype": "text/x-python",
   "name": "python",
   "nbconvert_exporter": "python",
   "pygments_lexer": "ipython3",
   "version": "3.7.4"
  }
 },
 "nbformat": 4,
 "nbformat_minor": 2
}
